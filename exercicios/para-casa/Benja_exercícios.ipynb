{
 "cells": [
  {
   "cell_type": "code",
   "execution_count": 3,
   "metadata": {},
   "outputs": [
    {
     "name": "stdout",
     "output_type": "stream",
     "text": [
      "\n",
      "Tabuada de 5\n",
      "5 x 2 = 10\n",
      "5 x 3 = 15\n",
      "5 x 4 = 20\n",
      "5 x 5 = 25\n",
      "5 x 6 = 30\n"
     ]
    }
   ],
   "source": [
    "#Exercício 36 \n",
    "#Solicita o número para a tabuada\n",
    "numero = int(input('Montar a tabuada de: '))\n",
    "\n",
    "#Solicita o valor inicial e final da tabuada\n",
    "primeiroNumero = int(input('Digique o primeiro número: '))\n",
    "segundoNumero = int(input('Digite o segundo número: '))\n",
    "\n",
    "print(f'\\nTabuada de {numero}')\n",
    "\n",
    "#Laço para calcular e imprimir a tabuada\n",
    "for i in range(primeiroNumero, segundoNumero + 1):\n",
    "    resultado = numero * i\n",
    "    print (f'{numero} x {i} = {resultado}')"
   ]
  },
  {
   "cell_type": "code",
   "execution_count": 5,
   "metadata": {},
   "outputs": [
    {
     "name": "stdout",
     "output_type": "stream",
     "text": [
      "O salário atual do funcionário é: R$ 64780166694621097717661435651754373841996112945846734312267054465902060362530816.00\n",
      "O salário atual do funcionário é: R$ 64780166694621097717661435651754373841996112945846734312267054465902060362530816.00\n"
     ]
    }
   ],
   "source": [
    "#Exercício 38\n",
    "# Dados iniciais\n",
    "ano_inicial = 1995\n",
    "salario_inicial = 1000.00\n",
    "ano_atual = 2024  # Assumindo o ano atual como 2024\n",
    "\n",
    "# Calcula o salário ao longo dos anos\n",
    "salario = salario_inicial\n",
    "percentual_aumento = 1.5 / 100  # R$ 15 aumento em 1996\n",
    "\n",
    "for ano in range(1996, ano_atual + 1):\n",
    "    salario += salario * percentual_aumento\n",
    "    percentual_aumento *= 2  # O aumento dobra a cada ano: 15, 30, 60, 120...\n",
    "\n",
    "print(f\"O salário atual do funcionário é: R$ {salario:.2f}\")\n",
    "\n",
    "# Solicita o salário inicial do usuário\n",
    "salario_inicial = float(input(\"Digite o salário inicial do funcionário: R$ \"))\n",
    "\n",
    "# Dados iniciais\n",
    "ano_inicial = 1995\n",
    "ano_atual = 2024  # Assumindo o ano atual como 2024\n",
    "\n",
    "# Calcula o salário ao longo dos anos\n",
    "salario = salario_inicial\n",
    "percentual_aumento = 1.5 / 100  # Aumento em 1996\n",
    "\n",
    "for ano in range(1996, ano_atual + 1):\n",
    "    salario += salario * percentual_aumento\n",
    "    percentual_aumento *= 2  # O aumento dobra a cada ano\n",
    "\n",
    "print(f\"O salário atual do funcionário é: R$ {salario:.2f}\")\n",
    "\n"
   ]
  },
  {
   "cell_type": "code",
   "execution_count": 6,
   "metadata": {},
   "outputs": [
    {
     "name": "stdout",
     "output_type": "stream",
     "text": [
      "5! = 5 . 4 . 3 . 2 . 1 = 120\n"
     ]
    }
   ],
   "source": [
    "numero = int(input(\"Fatorial de: \"))\n",
    "\n",
    "# Calcula o fatorial\n",
    "fatorial = 1\n",
    "fatorial_expansao = \"\"\n",
    "\n",
    "for i in range(numero, 0, -1):\n",
    "    fatorial *= i\n",
    "    fatorial_expansao += f\"{i} . \" if i != 1 else f\"{i}\"\n",
    "\n",
    "# Exibe o resultado\n",
    "print(f\"{numero}! = {fatorial_expansao} = {fatorial}\")\n"
   ]
  }
 ],
 "metadata": {
  "kernelspec": {
   "display_name": "Python 3",
   "language": "python",
   "name": "python3"
  },
  "language_info": {
   "codemirror_mode": {
    "name": "ipython",
    "version": 3
   },
   "file_extension": ".py",
   "mimetype": "text/x-python",
   "name": "python",
   "nbconvert_exporter": "python",
   "pygments_lexer": "ipython3",
   "version": "3.12.4"
  }
 },
 "nbformat": 4,
 "nbformat_minor": 2
}
