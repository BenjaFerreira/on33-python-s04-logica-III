{
 "cells": [
  {
   "cell_type": "code",
   "execution_count": 3,
   "metadata": {},
   "outputs": [
    {
     "name": "stdout",
     "output_type": "stream",
     "text": [
      "\n",
      "Tabuada de 5\n",
      "5 x 2 = 10\n",
      "5 x 3 = 15\n",
      "5 x 4 = 20\n",
      "5 x 5 = 25\n",
      "5 x 6 = 30\n"
     ]
    }
   ],
   "source": [
    "#Solicita o número para a tabuada\n",
    "numero = int(input('Montar a tabuada de: '))\n",
    "\n",
    "#Solicita o valor inicial e final da tabuada\n",
    "primeiroNumero = int(input('Digique o primeiro número: '))\n",
    "segundoNumero = int(input('Digite o segundo número: '))\n",
    "\n",
    "print(f'\\nTabuada de {numero}')\n",
    "\n",
    "#Laço para calcular e imprimir a tabuada\n",
    "for i in range(primeiroNumero, segundoNumero + 1):\n",
    "    resultado = numero * i\n",
    "    print (f'{numero} x {i} = {resultado}')"
   ]
  }
 ],
 "metadata": {
  "kernelspec": {
   "display_name": "Python 3",
   "language": "python",
   "name": "python3"
  },
  "language_info": {
   "codemirror_mode": {
    "name": "ipython",
    "version": 3
   },
   "file_extension": ".py",
   "mimetype": "text/x-python",
   "name": "python",
   "nbconvert_exporter": "python",
   "pygments_lexer": "ipython3",
   "version": "3.12.4"
  }
 },
 "nbformat": 4,
 "nbformat_minor": 2
}
